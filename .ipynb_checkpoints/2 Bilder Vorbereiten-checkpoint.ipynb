{
 "cells": [
  {
   "cell_type": "markdown",
   "metadata": {},
   "source": [
    "# Import\n",
    "Importieren der erforderlichen Bibliotheken"
   ]
  },
  {
   "cell_type": "code",
   "execution_count": 1,
   "metadata": {},
   "outputs": [],
   "source": [
    "import cv2 \n",
    "import uuid\n",
    "import os\n",
    "import time"
   ]
  },
  {
   "cell_type": "code",
   "execution_count": 2,
   "metadata": {},
   "outputs": [
    {
     "name": "stdout",
     "output_type": "stream",
     "text": [
      "3.10.2\n"
     ]
    }
   ],
   "source": [
    "# optionale Ausgabe der Python-Version, diese sollte 3.6.8 sein\n",
    "from platform import python_version\n",
    "print(python_version())"
   ]
  },
  {
   "cell_type": "markdown",
   "metadata": {},
   "source": [
    "# Deklarationen\n",
    "Hier werden die zu detektierenden Objekte in einer Liste angelegt. Die festgelgten Namen müssen im späteren Verlauf immer gleich sein, es muss auch auf Groß und Kleinschreibung geachtet werden.\n",
    "Zusätzlkich wird die Anzahl der Bilder pro Objekt angelegt. Im folgenden werden für jedes Objekt die hier festgelgte Anzahl von Bildern aufgenommen und für das Trainieren und Testen des Modells verwendet."
   ]
  },
  {
   "cell_type": "code",
   "execution_count": 3,
   "metadata": {},
   "outputs": [],
   "source": [
    "# Beispiel: objects = ['Objekt_1','Objekt_2','Objekt_3']\n",
    "objects = ['WT_001']\n",
    "\n",
    "number_imgs = 20"
   ]
  },
  {
   "cell_type": "markdown",
   "metadata": {},
   "source": [
    "# Initialisierung der Ordnerstruktur\n",
    "In diesem Abschnitt werden die Pfade zu den aufgenommenen Bildern und der LabelImg Software festgelegt. Anschießend wird im zweiten Block jeder Pfad, falls noch nicht vorhanden erstellt und für jedes Objekt ein eigener Ordner angelegt.\n",
    "Dann erfolgt das herunterladen der LabelImg-Software in den entsprechenden Pfad."
   ]
  },
  {
   "cell_type": "code",
   "execution_count": 4,
   "metadata": {},
   "outputs": [],
   "source": [
    "IMAGES_PATH = os.path.join('Tensorflow', 'workspace', 'images', 'collectedimages')\n",
    "\n",
    "LABELIMG_PATH = os.path.join('Tensorflow', 'labelimg')"
   ]
  },
  {
   "cell_type": "code",
   "execution_count": 5,
   "metadata": {},
   "outputs": [
    {
     "name": "stderr",
     "output_type": "stream",
     "text": [
      "Cloning into 'Tensorflow\\labelimg'...\n"
     ]
    }
   ],
   "source": [
    "if not os.path.exists(IMAGES_PATH):\n",
    "    !mkdir {IMAGES_PATH}\n",
    "for object in objects:\n",
    "    path = os.path.join(IMAGES_PATH, object)\n",
    "    if not os.path.exists(path):\n",
    "        !mkdir {path}\n",
    "if not os.path.exists(LABELIMG_PATH):\n",
    "    !mkdir {LABELIMG_PATH}\n",
    "    !git clone https://github.com/tzutalin/labelImg {LABELIMG_PATH}"
   ]
  },
  {
   "cell_type": "markdown",
   "metadata": {},
   "source": [
    "# Bilder Aufnehmen\n",
    "Falls die Bilder schon existieren, kann direkt zum nächsten Abschnitt übgergegangen werden. Hier werden für jedes zuvor festgellegte Objekt die ebenfalls festgelegte Anzahl an Bildern aufgenommen. Dabei ist zwischen jeder Aufnahme ein Zeitfenster von Zwei Sekunden festgelegt. Die Aufgenommenen Bilder werden in dem entsprechenden Ordner abgelegt und mit einem einzigartigen Dateinamen versehen um Dunplikate zu vermeiden.\n",
    "Der Vorgang kann durch betätigen von \"q\" unterbrochen werden."
   ]
  },
  {
   "cell_type": "code",
   "execution_count": null,
   "metadata": {},
   "outputs": [],
   "source": [
    "\n",
    "for object in objects:\n",
    "\n",
    "    img = cv2.VideoCapture(0) # 0 oder 1, je nach verwendeter Kamera (interne Webcam oder externe USB-Kamera)\n",
    "    img.set(cv2.CAP_PROP_FRAME_WIDTH, 1920)\n",
    "    img.set(cv2.CAP_PROP_FRAME_HEIGHT, 1080)\n",
    "    print('Aufnahme fuer {}'.format(object))\n",
    "    time.sleep(3)\n",
    "    \n",
    "    for imgnum in range(number_imgs):\n",
    "        print('Bild Nr.: {}'.format(imgnum))\n",
    "        ret, frame = img.read()\n",
    "        imgname = os.path.join(IMAGES_PATH,object,object+'.'+'{}.jpg'.format(str(uuid.uuid1())))\n",
    "        cv2.imwrite(imgname, frame)\n",
    "        cv2.imshow('frame', frame)\n",
    "        time.sleep(2)# Hier kann das Zeitfenser zwischen zwei Aufnahmen angepasst werden.\n",
    "        \n",
    "        if cv2.waitKey(1) & 0xFF == ord('q'):\n",
    "            break\n",
    "img.release()\n",
    "cv2.destroyAllWindows()"
   ]
  },
  {
   "cell_type": "markdown",
   "metadata": {},
   "source": [
    "# Bilder labeln\n",
    "Für das Labeln der Bilder wird die bereits heruntergeladene LabelImg Anwendung verwendet. Diese muss einmalig Kompiliert werden. durch den Aufruf des Python Scripts \"labelimg.py\" wird die Anwendung gestartet. Innerhalb der Anwendung werden die Bilder geöffnet und mit einem Label versehen. Dies wird beim Abspeichern in einer .xml-Datei für jedes Bild abgelegt."
   ]
  },
  {
   "cell_type": "code",
   "execution_count": 6,
   "metadata": {},
   "outputs": [
    {
     "name": "stderr",
     "output_type": "stream",
     "text": [
      "Der Befehl \"pyrcc5\" ist entweder falsch geschrieben oder\n",
      "konnte nicht gefunden werden.\n"
     ]
    }
   ],
   "source": [
    "!cd {LABELIMG_PATH} && pyrcc5 -o libs/resources.py resources.qrc && python labelImg.py"
   ]
  },
  {
   "cell_type": "markdown",
   "metadata": {},
   "source": [
    "# Bilder in Trainings und Test Ordner verschieben\n",
    "Um die Bilder für das spätere Training nutzen zu können, müssen von allen Objekten Bilder mit ihren zugehörigen .xml-Dateien in den Trainignsordner verschoben werden. Ein weiterer Teil wird in den Testordner verschoben. "
   ]
  }
 ],
 "metadata": {
  "kernelspec": {
   "display_name": "beerDt",
   "language": "python",
   "name": "beerdt"
  },
  "language_info": {
   "codemirror_mode": {
    "name": "ipython",
    "version": 3
   },
   "file_extension": ".py",
   "mimetype": "text/x-python",
   "name": "python",
   "nbconvert_exporter": "python",
   "pygments_lexer": "ipython3",
   "version": "3.10.2"
  }
 },
 "nbformat": 4,
 "nbformat_minor": 2
}
