{
 "cells": [
  {
   "cell_type": "code",
   "execution_count": 1,
   "id": "fb84bd7f",
   "metadata": {},
   "outputs": [
    {
     "name": "stdout",
     "output_type": "stream",
     "text": [
      "Python 3.10.2\n"
     ]
    }
   ],
   "source": [
    "!python --version\n"
   ]
  },
  {
   "cell_type": "code",
   "execution_count": 10,
   "id": "0a5875bf",
   "metadata": {},
   "outputs": [],
   "source": [
    "import numpy as np\n",
    "from sklearn.datasets import load_iris\n",
    "from sklearn.linear_model import Perceptron "
   ]
  },
  {
   "cell_type": "code",
   "execution_count": 9,
   "id": "e5e45b9d",
   "metadata": {},
   "outputs": [],
   "source": [
    "import tensorflow as tf"
   ]
  },
  {
   "cell_type": "code",
   "execution_count": 8,
   "id": "145bf47a",
   "metadata": {},
   "outputs": [
    {
     "name": "stdout",
     "output_type": "stream",
     "text": [
      "Requirement already satisfied: tensorflow in e:\\hochschule\\master\\02_semester\\80_vdki\\100_projekt\\beerdt\\lib\\site-packages (2.11.0)\n",
      "Requirement already satisfied: tensorflow-intel==2.11.0 in e:\\hochschule\\master\\02_semester\\80_vdki\\100_projekt\\beerdt\\lib\\site-packages (from tensorflow) (2.11.0)\n",
      "Requirement already satisfied: numpy>=1.20 in e:\\hochschule\\master\\02_semester\\80_vdki\\100_projekt\\beerdt\\lib\\site-packages (from tensorflow-intel==2.11.0->tensorflow) (1.22.4)\n",
      "Requirement already satisfied: libclang>=13.0.0 in e:\\hochschule\\master\\02_semester\\80_vdki\\100_projekt\\beerdt\\lib\\site-packages (from tensorflow-intel==2.11.0->tensorflow) (14.0.6)\n",
      "Requirement already satisfied: tensorflow-io-gcs-filesystem>=0.23.1 in e:\\hochschule\\master\\02_semester\\80_vdki\\100_projekt\\beerdt\\lib\\site-packages (from tensorflow-intel==2.11.0->tensorflow) (0.27.0)\n",
      "Requirement already satisfied: astunparse>=1.6.0 in e:\\hochschule\\master\\02_semester\\80_vdki\\100_projekt\\beerdt\\lib\\site-packages (from tensorflow-intel==2.11.0->tensorflow) (1.6.3)\n",
      "Requirement already satisfied: typing-extensions>=3.6.6 in e:\\hochschule\\master\\02_semester\\80_vdki\\100_projekt\\beerdt\\lib\\site-packages (from tensorflow-intel==2.11.0->tensorflow) (4.4.0)\n",
      "Requirement already satisfied: grpcio<2.0,>=1.24.3 in e:\\hochschule\\master\\02_semester\\80_vdki\\100_projekt\\beerdt\\lib\\site-packages (from tensorflow-intel==2.11.0->tensorflow) (1.50.0)\n",
      "Requirement already satisfied: opt-einsum>=2.3.2 in e:\\hochschule\\master\\02_semester\\80_vdki\\100_projekt\\beerdt\\lib\\site-packages (from tensorflow-intel==2.11.0->tensorflow) (3.3.0)\n",
      "Requirement already satisfied: flatbuffers>=2.0 in e:\\hochschule\\master\\02_semester\\80_vdki\\100_projekt\\beerdt\\lib\\site-packages (from tensorflow-intel==2.11.0->tensorflow) (22.11.23)\n",
      "Requirement already satisfied: absl-py>=1.0.0 in e:\\hochschule\\master\\02_semester\\80_vdki\\100_projekt\\beerdt\\lib\\site-packages (from tensorflow-intel==2.11.0->tensorflow) (1.3.0)\n",
      "Requirement already satisfied: google-pasta>=0.1.1 in e:\\hochschule\\master\\02_semester\\80_vdki\\100_projekt\\beerdt\\lib\\site-packages (from tensorflow-intel==2.11.0->tensorflow) (0.2.0)\n",
      "Requirement already satisfied: tensorboard<2.12,>=2.11 in e:\\hochschule\\master\\02_semester\\80_vdki\\100_projekt\\beerdt\\lib\\site-packages (from tensorflow-intel==2.11.0->tensorflow) (2.11.0)\n",
      "Requirement already satisfied: h5py>=2.9.0 in e:\\hochschule\\master\\02_semester\\80_vdki\\100_projekt\\beerdt\\lib\\site-packages (from tensorflow-intel==2.11.0->tensorflow) (3.7.0)\n",
      "Requirement already satisfied: protobuf<3.20,>=3.9.2 in e:\\hochschule\\master\\02_semester\\80_vdki\\100_projekt\\beerdt\\lib\\site-packages (from tensorflow-intel==2.11.0->tensorflow) (3.19.6)\n",
      "Requirement already satisfied: packaging in e:\\hochschule\\master\\02_semester\\80_vdki\\100_projekt\\beerdt\\lib\\site-packages (from tensorflow-intel==2.11.0->tensorflow) (21.3)\n",
      "Requirement already satisfied: keras<2.12,>=2.11.0 in e:\\hochschule\\master\\02_semester\\80_vdki\\100_projekt\\beerdt\\lib\\site-packages (from tensorflow-intel==2.11.0->tensorflow) (2.11.0)\n",
      "Requirement already satisfied: wrapt>=1.11.0 in e:\\hochschule\\master\\02_semester\\80_vdki\\100_projekt\\beerdt\\lib\\site-packages (from tensorflow-intel==2.11.0->tensorflow) (1.14.1)\n",
      "Requirement already satisfied: gast<=0.4.0,>=0.2.1 in e:\\hochschule\\master\\02_semester\\80_vdki\\100_projekt\\beerdt\\lib\\site-packages (from tensorflow-intel==2.11.0->tensorflow) (0.4.0)\n",
      "Requirement already satisfied: setuptools in e:\\hochschule\\master\\02_semester\\80_vdki\\100_projekt\\beerdt\\lib\\site-packages (from tensorflow-intel==2.11.0->tensorflow) (58.1.0)\n",
      "Requirement already satisfied: tensorflow-estimator<2.12,>=2.11.0 in e:\\hochschule\\master\\02_semester\\80_vdki\\100_projekt\\beerdt\\lib\\site-packages (from tensorflow-intel==2.11.0->tensorflow) (2.11.0)\n",
      "Requirement already satisfied: termcolor>=1.1.0 in e:\\hochschule\\master\\02_semester\\80_vdki\\100_projekt\\beerdt\\lib\\site-packages (from tensorflow-intel==2.11.0->tensorflow) (2.1.0)\n",
      "Requirement already satisfied: six>=1.12.0 in e:\\hochschule\\master\\02_semester\\80_vdki\\100_projekt\\beerdt\\lib\\site-packages (from tensorflow-intel==2.11.0->tensorflow) (1.16.0)\n",
      "Requirement already satisfied: wheel<1.0,>=0.23.0 in e:\\hochschule\\master\\02_semester\\80_vdki\\100_projekt\\beerdt\\lib\\site-packages (from astunparse>=1.6.0->tensorflow-intel==2.11.0->tensorflow) (0.37.1)\n",
      "Requirement already satisfied: google-auth-oauthlib<0.5,>=0.4.1 in e:\\hochschule\\master\\02_semester\\80_vdki\\100_projekt\\beerdt\\lib\\site-packages (from tensorboard<2.12,>=2.11->tensorflow-intel==2.11.0->tensorflow) (0.4.6)\n",
      "Requirement already satisfied: requests<3,>=2.21.0 in e:\\hochschule\\master\\02_semester\\80_vdki\\100_projekt\\beerdt\\lib\\site-packages (from tensorboard<2.12,>=2.11->tensorflow-intel==2.11.0->tensorflow) (2.28.1)\n",
      "Requirement already satisfied: tensorboard-plugin-wit>=1.6.0 in e:\\hochschule\\master\\02_semester\\80_vdki\\100_projekt\\beerdt\\lib\\site-packages (from tensorboard<2.12,>=2.11->tensorflow-intel==2.11.0->tensorflow) (1.8.1)\n",
      "Requirement already satisfied: tensorboard-data-server<0.7.0,>=0.6.0 in e:\\hochschule\\master\\02_semester\\80_vdki\\100_projekt\\beerdt\\lib\\site-packages (from tensorboard<2.12,>=2.11->tensorflow-intel==2.11.0->tensorflow) (0.6.1)\n",
      "Requirement already satisfied: markdown>=2.6.8 in e:\\hochschule\\master\\02_semester\\80_vdki\\100_projekt\\beerdt\\lib\\site-packages (from tensorboard<2.12,>=2.11->tensorflow-intel==2.11.0->tensorflow) (3.4.1)\n",
      "Requirement already satisfied: werkzeug>=1.0.1 in e:\\hochschule\\master\\02_semester\\80_vdki\\100_projekt\\beerdt\\lib\\site-packages (from tensorboard<2.12,>=2.11->tensorflow-intel==2.11.0->tensorflow) (2.2.2)\n",
      "Requirement already satisfied: google-auth<3,>=1.6.3 in e:\\hochschule\\master\\02_semester\\80_vdki\\100_projekt\\beerdt\\lib\\site-packages (from tensorboard<2.12,>=2.11->tensorflow-intel==2.11.0->tensorflow) (2.14.0)\n",
      "Requirement already satisfied: pyparsing!=3.0.5,>=2.0.2 in e:\\hochschule\\master\\02_semester\\80_vdki\\100_projekt\\beerdt\\lib\\site-packages (from packaging->tensorflow-intel==2.11.0->tensorflow) (2.4.7)\n",
      "Requirement already satisfied: pyasn1-modules>=0.2.1 in e:\\hochschule\\master\\02_semester\\80_vdki\\100_projekt\\beerdt\\lib\\site-packages (from google-auth<3,>=1.6.3->tensorboard<2.12,>=2.11->tensorflow-intel==2.11.0->tensorflow) (0.2.8)\n",
      "Requirement already satisfied: cachetools<6.0,>=2.0.0 in e:\\hochschule\\master\\02_semester\\80_vdki\\100_projekt\\beerdt\\lib\\site-packages (from google-auth<3,>=1.6.3->tensorboard<2.12,>=2.11->tensorflow-intel==2.11.0->tensorflow) (5.2.0)\n",
      "Requirement already satisfied: rsa<5,>=3.1.4 in e:\\hochschule\\master\\02_semester\\80_vdki\\100_projekt\\beerdt\\lib\\site-packages (from google-auth<3,>=1.6.3->tensorboard<2.12,>=2.11->tensorflow-intel==2.11.0->tensorflow) (4.9)\n",
      "Requirement already satisfied: requests-oauthlib>=0.7.0 in e:\\hochschule\\master\\02_semester\\80_vdki\\100_projekt\\beerdt\\lib\\site-packages (from google-auth-oauthlib<0.5,>=0.4.1->tensorboard<2.12,>=2.11->tensorflow-intel==2.11.0->tensorflow) (1.3.1)\n",
      "Requirement already satisfied: charset-normalizer<3,>=2 in e:\\hochschule\\master\\02_semester\\80_vdki\\100_projekt\\beerdt\\lib\\site-packages (from requests<3,>=2.21.0->tensorboard<2.12,>=2.11->tensorflow-intel==2.11.0->tensorflow) (2.1.1)\n",
      "Requirement already satisfied: idna<4,>=2.5 in e:\\hochschule\\master\\02_semester\\80_vdki\\100_projekt\\beerdt\\lib\\site-packages (from requests<3,>=2.21.0->tensorboard<2.12,>=2.11->tensorflow-intel==2.11.0->tensorflow) (3.4)\n",
      "Requirement already satisfied: certifi>=2017.4.17 in e:\\hochschule\\master\\02_semester\\80_vdki\\100_projekt\\beerdt\\lib\\site-packages (from requests<3,>=2.21.0->tensorboard<2.12,>=2.11->tensorflow-intel==2.11.0->tensorflow) (2022.9.24)\n",
      "Requirement already satisfied: urllib3<1.27,>=1.21.1 in e:\\hochschule\\master\\02_semester\\80_vdki\\100_projekt\\beerdt\\lib\\site-packages (from requests<3,>=2.21.0->tensorboard<2.12,>=2.11->tensorflow-intel==2.11.0->tensorflow) (1.26.12)\n",
      "Requirement already satisfied: MarkupSafe>=2.1.1 in e:\\hochschule\\master\\02_semester\\80_vdki\\100_projekt\\beerdt\\lib\\site-packages (from werkzeug>=1.0.1->tensorboard<2.12,>=2.11->tensorflow-intel==2.11.0->tensorflow) (2.1.1)\n",
      "Requirement already satisfied: pyasn1<0.5.0,>=0.4.6 in e:\\hochschule\\master\\02_semester\\80_vdki\\100_projekt\\beerdt\\lib\\site-packages (from pyasn1-modules>=0.2.1->google-auth<3,>=1.6.3->tensorboard<2.12,>=2.11->tensorflow-intel==2.11.0->tensorflow) (0.4.8)\n",
      "Requirement already satisfied: oauthlib>=3.0.0 in e:\\hochschule\\master\\02_semester\\80_vdki\\100_projekt\\beerdt\\lib\\site-packages (from requests-oauthlib>=0.7.0->google-auth-oauthlib<0.5,>=0.4.1->tensorboard<2.12,>=2.11->tensorflow-intel==2.11.0->tensorflow) (3.2.2)\n"
     ]
    },
    {
     "name": "stderr",
     "output_type": "stream",
     "text": [
      "WARNING: Ignoring invalid distribution -eras (e:\\hochschule\\master\\02_semester\\80_vdki\\100_projekt\\beerdt\\lib\\site-packages)\n",
      "WARNING: Ignoring invalid distribution -ensorflow (e:\\hochschule\\master\\02_semester\\80_vdki\\100_projekt\\beerdt\\lib\\site-packages)\n",
      "WARNING: Ignoring invalid distribution -eras (e:\\hochschule\\master\\02_semester\\80_vdki\\100_projekt\\beerdt\\lib\\site-packages)\n",
      "WARNING: Ignoring invalid distribution -ensorflow (e:\\hochschule\\master\\02_semester\\80_vdki\\100_projekt\\beerdt\\lib\\site-packages)\n",
      "WARNING: Ignoring invalid distribution -eras (e:\\hochschule\\master\\02_semester\\80_vdki\\100_projekt\\beerdt\\lib\\site-packages)\n",
      "WARNING: Ignoring invalid distribution -ensorflow (e:\\hochschule\\master\\02_semester\\80_vdki\\100_projekt\\beerdt\\lib\\site-packages)\n",
      "WARNING: Ignoring invalid distribution -eras (e:\\hochschule\\master\\02_semester\\80_vdki\\100_projekt\\beerdt\\lib\\site-packages)\n",
      "WARNING: Ignoring invalid distribution -ensorflow (e:\\hochschule\\master\\02_semester\\80_vdki\\100_projekt\\beerdt\\lib\\site-packages)\n",
      "WARNING: Ignoring invalid distribution -eras (e:\\hochschule\\master\\02_semester\\80_vdki\\100_projekt\\beerdt\\lib\\site-packages)\n",
      "WARNING: Ignoring invalid distribution -ensorflow (e:\\hochschule\\master\\02_semester\\80_vdki\\100_projekt\\beerdt\\lib\\site-packages)\n",
      "WARNING: Ignoring invalid distribution -eras (e:\\hochschule\\master\\02_semester\\80_vdki\\100_projekt\\beerdt\\lib\\site-packages)\n",
      "WARNING: Ignoring invalid distribution -ensorflow (e:\\hochschule\\master\\02_semester\\80_vdki\\100_projekt\\beerdt\\lib\\site-packages)\n"
     ]
    }
   ],
   "source": [
    "!pip install tensorflow"
   ]
  },
  {
   "cell_type": "code",
   "execution_count": 7,
   "id": "00009b04",
   "metadata": {},
   "outputs": [
    {
     "name": "stdout",
     "output_type": "stream",
     "text": [
      "Requirement already satisfied: pip in e:\\hochschule\\master\\02_semester\\80_vdki\\100_projekt\\beerdt\\lib\\site-packages (22.3)\n",
      "Collecting pip\n",
      "  Using cached pip-22.3.1-py3-none-any.whl (2.1 MB)\n",
      "Installing collected packages: pip\n",
      "  Attempting uninstall: pip\n",
      "    Found existing installation: pip 22.3\n",
      "    Uninstalling pip-22.3:\n",
      "      Successfully uninstalled pip-22.3\n",
      "Successfully installed pip-22.3.1\n"
     ]
    },
    {
     "name": "stderr",
     "output_type": "stream",
     "text": [
      "WARNING: Ignoring invalid distribution -eras (e:\\hochschule\\master\\02_semester\\80_vdki\\100_projekt\\beerdt\\lib\\site-packages)\n",
      "WARNING: Ignoring invalid distribution -ensorflow (e:\\hochschule\\master\\02_semester\\80_vdki\\100_projekt\\beerdt\\lib\\site-packages)\n",
      "WARNING: Ignoring invalid distribution -eras (e:\\hochschule\\master\\02_semester\\80_vdki\\100_projekt\\beerdt\\lib\\site-packages)\n",
      "WARNING: Ignoring invalid distribution -ensorflow (e:\\hochschule\\master\\02_semester\\80_vdki\\100_projekt\\beerdt\\lib\\site-packages)\n",
      "WARNING: Ignoring invalid distribution -eras (e:\\hochschule\\master\\02_semester\\80_vdki\\100_projekt\\beerdt\\lib\\site-packages)\n",
      "WARNING: Ignoring invalid distribution -ensorflow (e:\\hochschule\\master\\02_semester\\80_vdki\\100_projekt\\beerdt\\lib\\site-packages)\n",
      "    WARNING: Ignoring invalid distribution -eras (e:\\hochschule\\master\\02_semester\\80_vdki\\100_projekt\\beerdt\\lib\\site-packages)\n",
      "    WARNING: Ignoring invalid distribution -ensorflow (e:\\hochschule\\master\\02_semester\\80_vdki\\100_projekt\\beerdt\\lib\\site-packages)\n",
      "WARNING: Ignoring invalid distribution -eras (e:\\hochschule\\master\\02_semester\\80_vdki\\100_projekt\\beerdt\\lib\\site-packages)\n",
      "WARNING: Ignoring invalid distribution -ensorflow (e:\\hochschule\\master\\02_semester\\80_vdki\\100_projekt\\beerdt\\lib\\site-packages)\n",
      "WARNING: Ignoring invalid distribution -eras (e:\\hochschule\\master\\02_semester\\80_vdki\\100_projekt\\beerdt\\lib\\site-packages)\n",
      "WARNING: Ignoring invalid distribution -ensorflow (e:\\hochschule\\master\\02_semester\\80_vdki\\100_projekt\\beerdt\\lib\\site-packages)\n",
      "WARNING: Ignoring invalid distribution -eras (e:\\hochschule\\master\\02_semester\\80_vdki\\100_projekt\\beerdt\\lib\\site-packages)\n",
      "WARNING: Ignoring invalid distribution -ensorflow (e:\\hochschule\\master\\02_semester\\80_vdki\\100_projekt\\beerdt\\lib\\site-packages)\n",
      "WARNING: Ignoring invalid distribution -eras (e:\\hochschule\\master\\02_semester\\80_vdki\\100_projekt\\beerdt\\lib\\site-packages)\n",
      "WARNING: Ignoring invalid distribution -ensorflow (e:\\hochschule\\master\\02_semester\\80_vdki\\100_projekt\\beerdt\\lib\\site-packages)\n"
     ]
    }
   ],
   "source": [
    "!python -m pip install --upgrade pip\n"
   ]
  },
  {
   "cell_type": "code",
   "execution_count": null,
   "id": "0cedb1e1",
   "metadata": {},
   "outputs": [],
   "source": []
  }
 ],
 "metadata": {
  "kernelspec": {
   "display_name": "Python 3 (ipykernel)",
   "language": "python",
   "name": "python3"
  },
  "language_info": {
   "codemirror_mode": {
    "name": "ipython",
    "version": 3
   },
   "file_extension": ".py",
   "mimetype": "text/x-python",
   "name": "python",
   "nbconvert_exporter": "python",
   "pygments_lexer": "ipython3",
   "version": "3.10.2"
  }
 },
 "nbformat": 4,
 "nbformat_minor": 5
}
