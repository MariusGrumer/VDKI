{
 "cells": [
  {
   "cell_type": "markdown",
   "id": "5142909b",
   "metadata": {},
   "source": [
    "# Apply CNN\n",
    "\n",
    "check create_CNN.ipynb first to create and train a model."
   ]
  },
  {
   "cell_type": "code",
   "execution_count": null,
   "id": "c9419719",
   "metadata": {},
   "outputs": [],
   "source": [
    "# check python version\n",
    "!python --version"
   ]
  },
  {
   "cell_type": "code",
   "execution_count": null,
   "id": "924a0758",
   "metadata": {},
   "outputs": [],
   "source": [
    "#Installation"
   ]
  },
  {
   "cell_type": "markdown",
   "id": "3e549029",
   "metadata": {},
   "source": [
    "# 1. Imports"
   ]
  },
  {
   "cell_type": "code",
   "execution_count": null,
   "id": "b98cb254",
   "metadata": {},
   "outputs": [],
   "source": [
    "from PIL import Image"
   ]
  },
  {
   "cell_type": "code",
   "execution_count": null,
   "id": "bcb26ee9",
   "metadata": {},
   "outputs": [],
   "source": []
  },
  {
   "cell_type": "code",
   "execution_count": null,
   "id": "6a7651ae",
   "metadata": {},
   "outputs": [],
   "source": [
    "\n",
    "img = Image.open(\"image_file_path\").convert('L').resize((28, 28), Image.ANTIALIAS)\n",
    "img = np.array(img)\n",
    "model.predict(img[None,:,:])"
   ]
  }
 ],
 "metadata": {
  "kernelspec": {
   "display_name": "CNN",
   "language": "python",
   "name": "cnn"
  },
  "language_info": {
   "codemirror_mode": {
    "name": "ipython",
    "version": 3
   },
   "file_extension": ".py",
   "mimetype": "text/x-python",
   "name": "python",
   "nbconvert_exporter": "python",
   "pygments_lexer": "ipython3",
   "version": "3.9.1"
  }
 },
 "nbformat": 4,
 "nbformat_minor": 5
}
