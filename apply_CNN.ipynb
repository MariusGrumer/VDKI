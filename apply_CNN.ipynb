{
 "cells": [
  {
   "cell_type": "markdown",
   "id": "09121346",
   "metadata": {},
   "source": [
    "# Apply CNN\n",
    "\n",
    "check create_CNN.ipynb first to create and train a model."
   ]
  },
  {
   "cell_type": "code",
   "execution_count": null,
   "id": "06f89b57",
   "metadata": {},
   "outputs": [],
   "source": [
    "# check python version\n",
    "!python --version"
   ]
  },
  {
   "cell_type": "code",
   "execution_count": null,
   "id": "f2742d82",
   "metadata": {},
   "outputs": [],
   "source": [
    "#Installation\n",
    "!pip install scikit-image"
   ]
  },
  {
   "cell_type": "markdown",
   "id": "41559fe1",
   "metadata": {},
   "source": [
    "# 1. Imports"
   ]
  },
  {
   "cell_type": "code",
   "execution_count": 3,
   "id": "6f588430",
   "metadata": {},
   "outputs": [],
   "source": [
    "import os\n",
    "import tensorflow as tf\n",
    "from tensorflow import keras\n",
    "import numpy as np"
   ]
  },
  {
   "cell_type": "markdown",
   "id": "522e2c44",
   "metadata": {},
   "source": [
    "## 2. Paths"
   ]
  },
  {
   "cell_type": "code",
   "execution_count": 13,
   "id": "c3985fac",
   "metadata": {},
   "outputs": [],
   "source": [
    "modelName = 'model_1'\n",
    "baseDir = 'workspace'\n",
    "\n",
    "paths = {\n",
    "    'model': os.path.join(baseDir,'models',modelName),\n",
    "    'exampleImg': os.path.join(baseDir,'exampleImg2.png'),\n",
    "}"
   ]
  },
  {
   "cell_type": "code",
   "execution_count": 53,
   "id": "c63dd96b",
   "metadata": {},
   "outputs": [],
   "source": [
    "labelMap = ['closed Bottle', 'dam Bottle', 'dam Label', 'norm Bottle', 'norm Label',\n",
    "               'open  Bottle']"
   ]
  },
  {
   "cell_type": "markdown",
   "id": "ce22a325",
   "metadata": {},
   "source": [
    "## 3. Load Model"
   ]
  },
  {
   "cell_type": "code",
   "execution_count": 54,
   "id": "7365a077",
   "metadata": {},
   "outputs": [],
   "source": [
    "model = tf.keras.models.load_model(paths['model'])"
   ]
  },
  {
   "cell_type": "code",
   "execution_count": 55,
   "id": "51918b19",
   "metadata": {},
   "outputs": [
    {
     "name": "stdout",
     "output_type": "stream",
     "text": [
      "Model: \"sequential\"\n",
      "_________________________________________________________________\n",
      " Layer (type)                Output Shape              Param #   \n",
      "=================================================================\n",
      " conv2d (Conv2D)             (None, 75, 100, 32)       896       \n",
      "                                                                 \n",
      " conv2d_1 (Conv2D)           (None, 75, 100, 64)       18496     \n",
      "                                                                 \n",
      " max_pooling2d (MaxPooling2D  (None, 37, 50, 64)       0         \n",
      " )                                                               \n",
      "                                                                 \n",
      " dropout (Dropout)           (None, 37, 50, 64)        0         \n",
      "                                                                 \n",
      " conv2d_2 (Conv2D)           (None, 37, 50, 128)       73856     \n",
      "                                                                 \n",
      " dropout_1 (Dropout)         (None, 37, 50, 128)       0         \n",
      "                                                                 \n",
      " conv2d_3 (Conv2D)           (None, 37, 50, 256)       295168    \n",
      "                                                                 \n",
      " max_pooling2d_1 (MaxPooling  (None, 18, 25, 256)      0         \n",
      " 2D)                                                             \n",
      "                                                                 \n",
      " dropout_2 (Dropout)         (None, 18, 25, 256)       0         \n",
      "                                                                 \n",
      " batch_normalization (BatchN  (None, 18, 25, 256)      1024      \n",
      " ormalization)                                                   \n",
      "                                                                 \n",
      " flatten (Flatten)           (None, 115200)            0         \n",
      "                                                                 \n",
      " dense (Dense)               (None, 128)               14745728  \n",
      "                                                                 \n",
      " dropout_3 (Dropout)         (None, 128)               0         \n",
      "                                                                 \n",
      " dense_1 (Dense)             (None, 64)                8256      \n",
      "                                                                 \n",
      " dense_2 (Dense)             (None, 6)                 390       \n",
      "                                                                 \n",
      "=================================================================\n",
      "Total params: 15,143,814\n",
      "Trainable params: 15,143,302\n",
      "Non-trainable params: 512\n",
      "_________________________________________________________________\n"
     ]
    }
   ],
   "source": [
    "model.summary()"
   ]
  },
  {
   "cell_type": "markdown",
   "id": "679ffb0b",
   "metadata": {},
   "source": [
    "## 4. Apply CNN to Image"
   ]
  },
  {
   "cell_type": "code",
   "execution_count": 56,
   "id": "04a1c125",
   "metadata": {},
   "outputs": [],
   "source": [
    "# Load and resize Image\n",
    "image = tf.keras.preprocessing.image.load_img(paths['exampleImg'], target_size=(150, 200))\n",
    "input_arr = tf.keras.preprocessing.image.img_to_array(image)\n",
    "input_arr = np.array([input_arr]) \n",
    "input_arr = input_arr.astype('float32') / 255.  "
   ]
  },
  {
   "cell_type": "code",
   "execution_count": 69,
   "id": "95db539d",
   "metadata": {},
   "outputs": [
    {
     "name": "stdout",
     "output_type": "stream",
     "text": [
      "1/1 [==============================] - 0s 31ms/step\n",
      "float32\n",
      "Prediction: closed Bottle with probabilitiy of 60.95%\n"
     ]
    }
   ],
   "source": [
    "# make prediction and get class Label\n",
    "predictions = model.predict(input_arr)\n",
    "\n",
    "predClass = np.argmax(predictions, axis=-1)\n",
    "probabPredClass = predictions[0][predClass[0]]\n",
    "print(probabPredClass.dtype)\n",
    "print(\"Prediction: \"+labelMap[predClass[0]]+\" with probabilitiy of \"+str(round(probabPredClass*100,2))+\"%\")"
   ]
  }
 ],
 "metadata": {
  "kernelspec": {
   "display_name": "CNN",
   "language": "python",
   "name": "cnn"
  },
  "language_info": {
   "codemirror_mode": {
    "name": "ipython",
    "version": 3
   },
   "file_extension": ".py",
   "mimetype": "text/x-python",
   "name": "python",
   "nbconvert_exporter": "python",
   "pygments_lexer": "ipython3",
   "version": "3.9.1"
  }
 },
 "nbformat": 4,
 "nbformat_minor": 5
}
